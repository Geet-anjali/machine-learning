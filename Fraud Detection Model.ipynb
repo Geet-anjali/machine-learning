{
 "cells": [
  {
   "cell_type": "code",
   "execution_count": 1,
   "id": "12d1240f",
   "metadata": {},
   "outputs": [],
   "source": [
    "#import libraries\n",
    "\n",
    "import pandas as pd\n",
    "import numpy as np\n",
    "import matplotlib.pyplot as plt\n",
    "import seaborn as sns\n",
    "import random"
   ]
  },
  {
   "cell_type": "code",
   "execution_count": 2,
   "id": "29731c92",
   "metadata": {},
   "outputs": [],
   "source": [
    "# read the data file\n",
    "\n",
    "data =(\"Fraud.csv\")\n",
    "\n",
    "n = sum(1 for line in open(data)) - 1 #number of records in file (excludes header)\n",
    "s = 100000 #desired sample size\n",
    "skip = sorted(random.sample(range(1,n+1),n-s)) #the 0-indexed header will not be included in the skip list\n",
    "df = pd.read_csv(data, skiprows=skip)"
   ]
  },
  {
   "cell_type": "code",
   "execution_count": 3,
   "id": "a88f2164",
   "metadata": {},
   "outputs": [
    {
     "data": {
      "text/html": [
       "<div>\n",
       "<style scoped>\n",
       "    .dataframe tbody tr th:only-of-type {\n",
       "        vertical-align: middle;\n",
       "    }\n",
       "\n",
       "    .dataframe tbody tr th {\n",
       "        vertical-align: top;\n",
       "    }\n",
       "\n",
       "    .dataframe thead th {\n",
       "        text-align: right;\n",
       "    }\n",
       "</style>\n",
       "<table border=\"1\" class=\"dataframe\">\n",
       "  <thead>\n",
       "    <tr style=\"text-align: right;\">\n",
       "      <th></th>\n",
       "      <th>step</th>\n",
       "      <th>type</th>\n",
       "      <th>amount</th>\n",
       "      <th>nameOrig</th>\n",
       "      <th>oldbalanceOrg</th>\n",
       "      <th>newbalanceOrig</th>\n",
       "      <th>nameDest</th>\n",
       "      <th>oldbalanceDest</th>\n",
       "      <th>newbalanceDest</th>\n",
       "      <th>isFraud</th>\n",
       "      <th>isFlaggedFraud</th>\n",
       "    </tr>\n",
       "  </thead>\n",
       "  <tbody>\n",
       "    <tr>\n",
       "      <th>0</th>\n",
       "      <td>1</td>\n",
       "      <td>CASH_OUT</td>\n",
       "      <td>28404.60</td>\n",
       "      <td>C2091072548</td>\n",
       "      <td>0.00</td>\n",
       "      <td>0.00</td>\n",
       "      <td>C1282788025</td>\n",
       "      <td>51744.00</td>\n",
       "      <td>0.00</td>\n",
       "      <td>0</td>\n",
       "      <td>0</td>\n",
       "    </tr>\n",
       "    <tr>\n",
       "      <th>1</th>\n",
       "      <td>1</td>\n",
       "      <td>DEBIT</td>\n",
       "      <td>864.68</td>\n",
       "      <td>C1368862151</td>\n",
       "      <td>69836.00</td>\n",
       "      <td>68971.32</td>\n",
       "      <td>C20671747</td>\n",
       "      <td>12040.00</td>\n",
       "      <td>43691.09</td>\n",
       "      <td>0</td>\n",
       "      <td>0</td>\n",
       "    </tr>\n",
       "    <tr>\n",
       "      <th>2</th>\n",
       "      <td>1</td>\n",
       "      <td>CASH_OUT</td>\n",
       "      <td>53631.83</td>\n",
       "      <td>C1233595751</td>\n",
       "      <td>0.00</td>\n",
       "      <td>0.00</td>\n",
       "      <td>C757108857</td>\n",
       "      <td>83244.00</td>\n",
       "      <td>0.00</td>\n",
       "      <td>0</td>\n",
       "      <td>0</td>\n",
       "    </tr>\n",
       "    <tr>\n",
       "      <th>3</th>\n",
       "      <td>1</td>\n",
       "      <td>CASH_OUT</td>\n",
       "      <td>3146.16</td>\n",
       "      <td>C923083575</td>\n",
       "      <td>0.00</td>\n",
       "      <td>0.00</td>\n",
       "      <td>C1504109395</td>\n",
       "      <td>9471.00</td>\n",
       "      <td>593737.38</td>\n",
       "      <td>0</td>\n",
       "      <td>0</td>\n",
       "    </tr>\n",
       "    <tr>\n",
       "      <th>4</th>\n",
       "      <td>1</td>\n",
       "      <td>CASH_OUT</td>\n",
       "      <td>68912.23</td>\n",
       "      <td>C1620529408</td>\n",
       "      <td>0.00</td>\n",
       "      <td>0.00</td>\n",
       "      <td>C1688019098</td>\n",
       "      <td>237326.80</td>\n",
       "      <td>97263.78</td>\n",
       "      <td>0</td>\n",
       "      <td>0</td>\n",
       "    </tr>\n",
       "    <tr>\n",
       "      <th>...</th>\n",
       "      <td>...</td>\n",
       "      <td>...</td>\n",
       "      <td>...</td>\n",
       "      <td>...</td>\n",
       "      <td>...</td>\n",
       "      <td>...</td>\n",
       "      <td>...</td>\n",
       "      <td>...</td>\n",
       "      <td>...</td>\n",
       "      <td>...</td>\n",
       "      <td>...</td>\n",
       "    </tr>\n",
       "    <tr>\n",
       "      <th>99995</th>\n",
       "      <td>718</td>\n",
       "      <td>DEBIT</td>\n",
       "      <td>425.65</td>\n",
       "      <td>C1835928822</td>\n",
       "      <td>4046.00</td>\n",
       "      <td>3620.35</td>\n",
       "      <td>C701975669</td>\n",
       "      <td>3009282.73</td>\n",
       "      <td>3009708.38</td>\n",
       "      <td>0</td>\n",
       "      <td>0</td>\n",
       "    </tr>\n",
       "    <tr>\n",
       "      <th>99996</th>\n",
       "      <td>736</td>\n",
       "      <td>CASH_OUT</td>\n",
       "      <td>274799.58</td>\n",
       "      <td>C1263652542</td>\n",
       "      <td>274799.58</td>\n",
       "      <td>0.00</td>\n",
       "      <td>C1406817938</td>\n",
       "      <td>0.00</td>\n",
       "      <td>274799.58</td>\n",
       "      <td>1</td>\n",
       "      <td>0</td>\n",
       "    </tr>\n",
       "    <tr>\n",
       "      <th>99997</th>\n",
       "      <td>737</td>\n",
       "      <td>TRANSFER</td>\n",
       "      <td>946705.53</td>\n",
       "      <td>C1524194171</td>\n",
       "      <td>946705.53</td>\n",
       "      <td>0.00</td>\n",
       "      <td>C357888969</td>\n",
       "      <td>0.00</td>\n",
       "      <td>0.00</td>\n",
       "      <td>1</td>\n",
       "      <td>0</td>\n",
       "    </tr>\n",
       "    <tr>\n",
       "      <th>99998</th>\n",
       "      <td>739</td>\n",
       "      <td>TRANSFER</td>\n",
       "      <td>194521.28</td>\n",
       "      <td>C1696012302</td>\n",
       "      <td>194521.28</td>\n",
       "      <td>0.00</td>\n",
       "      <td>C411128068</td>\n",
       "      <td>0.00</td>\n",
       "      <td>0.00</td>\n",
       "      <td>1</td>\n",
       "      <td>0</td>\n",
       "    </tr>\n",
       "    <tr>\n",
       "      <th>99999</th>\n",
       "      <td>741</td>\n",
       "      <td>TRANSFER</td>\n",
       "      <td>144945.34</td>\n",
       "      <td>C31496887</td>\n",
       "      <td>144945.34</td>\n",
       "      <td>0.00</td>\n",
       "      <td>C1251365829</td>\n",
       "      <td>0.00</td>\n",
       "      <td>0.00</td>\n",
       "      <td>1</td>\n",
       "      <td>0</td>\n",
       "    </tr>\n",
       "  </tbody>\n",
       "</table>\n",
       "<p>100000 rows × 11 columns</p>\n",
       "</div>"
      ],
      "text/plain": [
       "       step      type     amount     nameOrig  oldbalanceOrg  newbalanceOrig  \\\n",
       "0         1  CASH_OUT   28404.60  C2091072548           0.00            0.00   \n",
       "1         1     DEBIT     864.68  C1368862151       69836.00        68971.32   \n",
       "2         1  CASH_OUT   53631.83  C1233595751           0.00            0.00   \n",
       "3         1  CASH_OUT    3146.16   C923083575           0.00            0.00   \n",
       "4         1  CASH_OUT   68912.23  C1620529408           0.00            0.00   \n",
       "...     ...       ...        ...          ...            ...             ...   \n",
       "99995   718     DEBIT     425.65  C1835928822        4046.00         3620.35   \n",
       "99996   736  CASH_OUT  274799.58  C1263652542      274799.58            0.00   \n",
       "99997   737  TRANSFER  946705.53  C1524194171      946705.53            0.00   \n",
       "99998   739  TRANSFER  194521.28  C1696012302      194521.28            0.00   \n",
       "99999   741  TRANSFER  144945.34    C31496887      144945.34            0.00   \n",
       "\n",
       "          nameDest  oldbalanceDest  newbalanceDest  isFraud  isFlaggedFraud  \n",
       "0      C1282788025        51744.00            0.00        0               0  \n",
       "1        C20671747        12040.00        43691.09        0               0  \n",
       "2       C757108857        83244.00            0.00        0               0  \n",
       "3      C1504109395         9471.00       593737.38        0               0  \n",
       "4      C1688019098       237326.80        97263.78        0               0  \n",
       "...            ...             ...             ...      ...             ...  \n",
       "99995   C701975669      3009282.73      3009708.38        0               0  \n",
       "99996  C1406817938            0.00       274799.58        1               0  \n",
       "99997   C357888969            0.00            0.00        1               0  \n",
       "99998   C411128068            0.00            0.00        1               0  \n",
       "99999  C1251365829            0.00            0.00        1               0  \n",
       "\n",
       "[100000 rows x 11 columns]"
      ]
     },
     "execution_count": 3,
     "metadata": {},
     "output_type": "execute_result"
    }
   ],
   "source": [
    "# creating a dataframe \n",
    "df_fraud = pd.DataFrame(df)\n",
    "df_fraud"
   ]
  },
  {
   "cell_type": "code",
   "execution_count": 4,
   "id": "7ce8a032",
   "metadata": {},
   "outputs": [
    {
     "data": {
      "text/plain": [
       "(100000, 11)"
      ]
     },
     "execution_count": 4,
     "metadata": {},
     "output_type": "execute_result"
    }
   ],
   "source": [
    "df_fraud.shape"
   ]
  },
  {
   "cell_type": "markdown",
   "id": "20f9d888",
   "metadata": {},
   "source": [
    "step - maps a unit of time in the real world. In this case 1 step is 1 hour of time. Total steps 744 (30 days simulation).\n",
    "\n",
    "type - CASH-IN, CASH-OUT, DEBIT, PAYMENT and TRANSFER.\n",
    "\n",
    "amount - amount of the transaction in local currency.\n",
    "\n",
    "nameOrig - customer who started the transaction\n",
    "\n",
    "oldbalanceOrg - initial balance before the transaction\n",
    "\n",
    "newbalanceOrig - new balance after the transaction\n",
    "\n",
    "nameDest - customer who is the recipient of the transaction\n",
    "\n",
    "oldbalanceDest - initial balance recipient before the transaction. Note that there is not information for customers that start with M (Merchants).\n",
    "\n",
    "newbalanceDest - new balance recipient after the transaction. Note that there is not information for customers that start with M (Merchants).\n",
    "\n",
    "isFraud - This is the transactions made by the fraudulent agents inside the simulation. In this specific dataset the fraudulent behavior of the agents aims to profit by taking control or customers accounts and try to empty the funds by transferring to another account and then cashing out of the system.\n",
    "\n",
    "isFlaggedFraud - The business model aims to control massive transfers from one account to another and flags illegal attempts. An illegal attempt in this dataset is an attempt to transfer more than 200.000 in a single transaction."
   ]
  },
  {
   "cell_type": "code",
   "execution_count": 5,
   "id": "68b8e8e9",
   "metadata": {},
   "outputs": [
    {
     "name": "stdout",
     "output_type": "stream",
     "text": [
      "<class 'pandas.core.frame.DataFrame'>\n",
      "RangeIndex: 100000 entries, 0 to 99999\n",
      "Data columns (total 11 columns):\n",
      " #   Column          Non-Null Count   Dtype  \n",
      "---  ------          --------------   -----  \n",
      " 0   step            100000 non-null  int64  \n",
      " 1   type            100000 non-null  object \n",
      " 2   amount          100000 non-null  float64\n",
      " 3   nameOrig        100000 non-null  object \n",
      " 4   oldbalanceOrg   100000 non-null  float64\n",
      " 5   newbalanceOrig  100000 non-null  float64\n",
      " 6   nameDest        100000 non-null  object \n",
      " 7   oldbalanceDest  100000 non-null  float64\n",
      " 8   newbalanceDest  100000 non-null  float64\n",
      " 9   isFraud         100000 non-null  int64  \n",
      " 10  isFlaggedFraud  100000 non-null  int64  \n",
      "dtypes: float64(5), int64(3), object(3)\n",
      "memory usage: 8.4+ MB\n"
     ]
    }
   ],
   "source": [
    "df_fraud.info()"
   ]
  },
  {
   "cell_type": "code",
   "execution_count": 6,
   "id": "8d0969d0",
   "metadata": {},
   "outputs": [
    {
     "data": {
      "text/html": [
       "<div>\n",
       "<style scoped>\n",
       "    .dataframe tbody tr th:only-of-type {\n",
       "        vertical-align: middle;\n",
       "    }\n",
       "\n",
       "    .dataframe tbody tr th {\n",
       "        vertical-align: top;\n",
       "    }\n",
       "\n",
       "    .dataframe thead th {\n",
       "        text-align: right;\n",
       "    }\n",
       "</style>\n",
       "<table border=\"1\" class=\"dataframe\">\n",
       "  <thead>\n",
       "    <tr style=\"text-align: right;\">\n",
       "      <th></th>\n",
       "      <th>step</th>\n",
       "      <th>type</th>\n",
       "      <th>amount</th>\n",
       "      <th>nameOrig</th>\n",
       "      <th>oldbalanceOrg</th>\n",
       "      <th>newbalanceOrig</th>\n",
       "      <th>nameDest</th>\n",
       "      <th>oldbalanceDest</th>\n",
       "      <th>newbalanceDest</th>\n",
       "      <th>isFraud</th>\n",
       "      <th>isFlaggedFraud</th>\n",
       "    </tr>\n",
       "  </thead>\n",
       "  <tbody>\n",
       "    <tr>\n",
       "      <th>count</th>\n",
       "      <td>100000.000000</td>\n",
       "      <td>100000</td>\n",
       "      <td>1.000000e+05</td>\n",
       "      <td>100000</td>\n",
       "      <td>1.000000e+05</td>\n",
       "      <td>1.000000e+05</td>\n",
       "      <td>100000</td>\n",
       "      <td>1.000000e+05</td>\n",
       "      <td>1.000000e+05</td>\n",
       "      <td>100000.000000</td>\n",
       "      <td>100000.0</td>\n",
       "    </tr>\n",
       "    <tr>\n",
       "      <th>unique</th>\n",
       "      <td>NaN</td>\n",
       "      <td>5</td>\n",
       "      <td>NaN</td>\n",
       "      <td>99995</td>\n",
       "      <td>NaN</td>\n",
       "      <td>NaN</td>\n",
       "      <td>92996</td>\n",
       "      <td>NaN</td>\n",
       "      <td>NaN</td>\n",
       "      <td>NaN</td>\n",
       "      <td>NaN</td>\n",
       "    </tr>\n",
       "    <tr>\n",
       "      <th>top</th>\n",
       "      <td>NaN</td>\n",
       "      <td>CASH_OUT</td>\n",
       "      <td>NaN</td>\n",
       "      <td>C375450542</td>\n",
       "      <td>NaN</td>\n",
       "      <td>NaN</td>\n",
       "      <td>C1627055761</td>\n",
       "      <td>NaN</td>\n",
       "      <td>NaN</td>\n",
       "      <td>NaN</td>\n",
       "      <td>NaN</td>\n",
       "    </tr>\n",
       "    <tr>\n",
       "      <th>freq</th>\n",
       "      <td>NaN</td>\n",
       "      <td>35046</td>\n",
       "      <td>NaN</td>\n",
       "      <td>2</td>\n",
       "      <td>NaN</td>\n",
       "      <td>NaN</td>\n",
       "      <td>5</td>\n",
       "      <td>NaN</td>\n",
       "      <td>NaN</td>\n",
       "      <td>NaN</td>\n",
       "      <td>NaN</td>\n",
       "    </tr>\n",
       "    <tr>\n",
       "      <th>mean</th>\n",
       "      <td>243.544540</td>\n",
       "      <td>NaN</td>\n",
       "      <td>1.795636e+05</td>\n",
       "      <td>NaN</td>\n",
       "      <td>8.405175e+05</td>\n",
       "      <td>8.618772e+05</td>\n",
       "      <td>NaN</td>\n",
       "      <td>1.097035e+06</td>\n",
       "      <td>1.218403e+06</td>\n",
       "      <td>0.001460</td>\n",
       "      <td>0.0</td>\n",
       "    </tr>\n",
       "    <tr>\n",
       "      <th>std</th>\n",
       "      <td>142.952664</td>\n",
       "      <td>NaN</td>\n",
       "      <td>6.322930e+05</td>\n",
       "      <td>NaN</td>\n",
       "      <td>2.904906e+06</td>\n",
       "      <td>2.941013e+06</td>\n",
       "      <td>NaN</td>\n",
       "      <td>3.277820e+06</td>\n",
       "      <td>3.575415e+06</td>\n",
       "      <td>0.038182</td>\n",
       "      <td>0.0</td>\n",
       "    </tr>\n",
       "    <tr>\n",
       "      <th>min</th>\n",
       "      <td>1.000000</td>\n",
       "      <td>NaN</td>\n",
       "      <td>0.000000e+00</td>\n",
       "      <td>NaN</td>\n",
       "      <td>0.000000e+00</td>\n",
       "      <td>0.000000e+00</td>\n",
       "      <td>NaN</td>\n",
       "      <td>0.000000e+00</td>\n",
       "      <td>0.000000e+00</td>\n",
       "      <td>0.000000</td>\n",
       "      <td>0.0</td>\n",
       "    </tr>\n",
       "    <tr>\n",
       "      <th>25%</th>\n",
       "      <td>155.000000</td>\n",
       "      <td>NaN</td>\n",
       "      <td>1.343674e+04</td>\n",
       "      <td>NaN</td>\n",
       "      <td>0.000000e+00</td>\n",
       "      <td>0.000000e+00</td>\n",
       "      <td>NaN</td>\n",
       "      <td>0.000000e+00</td>\n",
       "      <td>0.000000e+00</td>\n",
       "      <td>0.000000</td>\n",
       "      <td>0.0</td>\n",
       "    </tr>\n",
       "    <tr>\n",
       "      <th>50%</th>\n",
       "      <td>239.000000</td>\n",
       "      <td>NaN</td>\n",
       "      <td>7.577758e+04</td>\n",
       "      <td>NaN</td>\n",
       "      <td>1.448700e+04</td>\n",
       "      <td>0.000000e+00</td>\n",
       "      <td>NaN</td>\n",
       "      <td>1.359655e+05</td>\n",
       "      <td>2.194602e+05</td>\n",
       "      <td>0.000000</td>\n",
       "      <td>0.0</td>\n",
       "    </tr>\n",
       "    <tr>\n",
       "      <th>75%</th>\n",
       "      <td>335.000000</td>\n",
       "      <td>NaN</td>\n",
       "      <td>2.088880e+05</td>\n",
       "      <td>NaN</td>\n",
       "      <td>1.075275e+05</td>\n",
       "      <td>1.445342e+05</td>\n",
       "      <td>NaN</td>\n",
       "      <td>9.413247e+05</td>\n",
       "      <td>1.113352e+06</td>\n",
       "      <td>0.000000</td>\n",
       "      <td>0.0</td>\n",
       "    </tr>\n",
       "    <tr>\n",
       "      <th>max</th>\n",
       "      <td>741.000000</td>\n",
       "      <td>NaN</td>\n",
       "      <td>5.695142e+07</td>\n",
       "      <td>NaN</td>\n",
       "      <td>3.523601e+07</td>\n",
       "      <td>3.537580e+07</td>\n",
       "      <td>NaN</td>\n",
       "      <td>2.362305e+08</td>\n",
       "      <td>2.493709e+08</td>\n",
       "      <td>1.000000</td>\n",
       "      <td>0.0</td>\n",
       "    </tr>\n",
       "  </tbody>\n",
       "</table>\n",
       "</div>"
      ],
      "text/plain": [
       "                 step      type        amount    nameOrig  oldbalanceOrg  \\\n",
       "count   100000.000000    100000  1.000000e+05      100000   1.000000e+05   \n",
       "unique            NaN         5           NaN       99995            NaN   \n",
       "top               NaN  CASH_OUT           NaN  C375450542            NaN   \n",
       "freq              NaN     35046           NaN           2            NaN   \n",
       "mean       243.544540       NaN  1.795636e+05         NaN   8.405175e+05   \n",
       "std        142.952664       NaN  6.322930e+05         NaN   2.904906e+06   \n",
       "min          1.000000       NaN  0.000000e+00         NaN   0.000000e+00   \n",
       "25%        155.000000       NaN  1.343674e+04         NaN   0.000000e+00   \n",
       "50%        239.000000       NaN  7.577758e+04         NaN   1.448700e+04   \n",
       "75%        335.000000       NaN  2.088880e+05         NaN   1.075275e+05   \n",
       "max        741.000000       NaN  5.695142e+07         NaN   3.523601e+07   \n",
       "\n",
       "        newbalanceOrig     nameDest  oldbalanceDest  newbalanceDest  \\\n",
       "count     1.000000e+05       100000    1.000000e+05    1.000000e+05   \n",
       "unique             NaN        92996             NaN             NaN   \n",
       "top                NaN  C1627055761             NaN             NaN   \n",
       "freq               NaN            5             NaN             NaN   \n",
       "mean      8.618772e+05          NaN    1.097035e+06    1.218403e+06   \n",
       "std       2.941013e+06          NaN    3.277820e+06    3.575415e+06   \n",
       "min       0.000000e+00          NaN    0.000000e+00    0.000000e+00   \n",
       "25%       0.000000e+00          NaN    0.000000e+00    0.000000e+00   \n",
       "50%       0.000000e+00          NaN    1.359655e+05    2.194602e+05   \n",
       "75%       1.445342e+05          NaN    9.413247e+05    1.113352e+06   \n",
       "max       3.537580e+07          NaN    2.362305e+08    2.493709e+08   \n",
       "\n",
       "              isFraud  isFlaggedFraud  \n",
       "count   100000.000000        100000.0  \n",
       "unique            NaN             NaN  \n",
       "top               NaN             NaN  \n",
       "freq              NaN             NaN  \n",
       "mean         0.001460             0.0  \n",
       "std          0.038182             0.0  \n",
       "min          0.000000             0.0  \n",
       "25%          0.000000             0.0  \n",
       "50%          0.000000             0.0  \n",
       "75%          0.000000             0.0  \n",
       "max          1.000000             0.0  "
      ]
     },
     "execution_count": 6,
     "metadata": {},
     "output_type": "execute_result"
    }
   ],
   "source": [
    "df_fraud.describe(include='all')"
   ]
  },
  {
   "cell_type": "code",
   "execution_count": 7,
   "id": "ac72aead",
   "metadata": {},
   "outputs": [
    {
     "data": {
      "text/plain": [
       "step              0\n",
       "type              0\n",
       "amount            0\n",
       "nameOrig          0\n",
       "oldbalanceOrg     0\n",
       "newbalanceOrig    0\n",
       "nameDest          0\n",
       "oldbalanceDest    0\n",
       "newbalanceDest    0\n",
       "isFraud           0\n",
       "isFlaggedFraud    0\n",
       "dtype: int64"
      ]
     },
     "execution_count": 7,
     "metadata": {},
     "output_type": "execute_result"
    }
   ],
   "source": [
    "# data is clean as their is no null values present in the data\n",
    "df_fraud.isnull().sum()"
   ]
  },
  {
   "cell_type": "code",
   "execution_count": null,
   "id": "1f20c8fd",
   "metadata": {},
   "outputs": [],
   "source": [
    "#As the Data is the classification data so outliners doesn't play a major role in it, Spo the value can be 0 or 1\n",
    "sns.displot(df_fraud['oldbalanceOrg'])"
   ]
  },
  {
   "cell_type": "code",
   "execution_count": null,
   "id": "d9285150",
   "metadata": {},
   "outputs": [],
   "source": []
  },
  {
   "cell_type": "code",
   "execution_count": null,
   "id": "e7819367",
   "metadata": {},
   "outputs": [],
   "source": [
    "df_fraud.hist(figsize=(15,15))\n",
    "plt.show()"
   ]
  },
  {
   "cell_type": "code",
   "execution_count": null,
   "id": "4317fb48",
   "metadata": {},
   "outputs": [],
   "source": [
    "df_fraud.boxplot(column='oldbalanceOrg')\n",
    "plt.show()"
   ]
  },
  {
   "cell_type": "code",
   "execution_count": null,
   "id": "36b64d92",
   "metadata": {},
   "outputs": [],
   "source": [
    "plt.pie(df_fraud[\"type\"].value_counts(), labels=df_fraud[\"type\"].unique(), autopct='%.0f%%')\n",
    "plt.show()"
   ]
  },
  {
   "cell_type": "code",
   "execution_count": null,
   "id": "d2ab1ad3",
   "metadata": {},
   "outputs": [],
   "source": [
    "df_fraud.boxplot(column='amount',by='type')\n",
    "plt.tight_layout()\n",
    "plt.show()"
   ]
  },
  {
   "cell_type": "code",
   "execution_count": null,
   "id": "8c829ca2",
   "metadata": {},
   "outputs": [],
   "source": [
    "g = sns.relplot(x=\"amount\",y=\"isFraud\",col='isFraud',data=df,kind=\"scatter\")\n",
    "plt.show()"
   ]
  },
  {
   "cell_type": "code",
   "execution_count": null,
   "id": "f500678c",
   "metadata": {},
   "outputs": [],
   "source": [
    "df_fraud['type'].unique()"
   ]
  },
  {
   "cell_type": "code",
   "execution_count": null,
   "id": "8986f301",
   "metadata": {},
   "outputs": [],
   "source": [
    "df_fraud['type'].replace(['PAYMENT', 'TRANSFER', 'CASH_OUT', 'DEBIT', 'CASH_IN'],[0,1,2,3,4], inplace=True)\n",
    "df_fraud"
   ]
  },
  {
   "cell_type": "code",
   "execution_count": null,
   "id": "7d848d2f",
   "metadata": {},
   "outputs": [],
   "source": [
    "df_Fraudtype=df_fraud[\"type\"].value_counts(normalize=True)\n",
    "df_Fraudtype\n",
    "\n",
    "df_Fraudtype.plot(kind = 'bar', title = \"type\",width=0.2)"
   ]
  },
  {
   "cell_type": "code",
   "execution_count": null,
   "id": "be5b266d",
   "metadata": {},
   "outputs": [],
   "source": [
    "plt.figure(figsize=[15,15])\n",
    "df_fraud.boxplot(column='amount',by='isFraud')\n",
    "plt.show()\n",
    "plt.figure(figsize=[15,15])\n",
    "df_fraud.boxplot(column='oldbalanceOrg',by='isFraud')\n",
    "plt.show()"
   ]
  },
  {
   "cell_type": "code",
   "execution_count": null,
   "id": "761c1a0b",
   "metadata": {},
   "outputs": [],
   "source": [
    "df_fraud[\"nameOrig\"].where(df_fraud[\"nameOrig\"].value_counts()>3).sum()"
   ]
  },
  {
   "cell_type": "code",
   "execution_count": null,
   "id": "c6e7097f",
   "metadata": {},
   "outputs": [],
   "source": [
    "corr=df_fraud.corr()\n",
    "corr"
   ]
  },
  {
   "cell_type": "code",
   "execution_count": null,
   "id": "4808001b",
   "metadata": {},
   "outputs": [],
   "source": [
    "#Multicollinearity\n",
    "plt.figure(figsize=[13,13])\n",
    "sns.heatmap(corr, vmax=.3, center=0,\n",
    "            square=True, linewidths=.5, cbar_kws={\"shrink\": .5},annot=True)"
   ]
  },
  {
   "cell_type": "code",
   "execution_count": null,
   "id": "bb2cd6f5",
   "metadata": {},
   "outputs": [],
   "source": [
    "# lowest effect is vissible in newbalanceOrig,newbalabceDest,oldbalanceDest,type"
   ]
  },
  {
   "cell_type": "code",
   "execution_count": null,
   "id": "a1b194da",
   "metadata": {},
   "outputs": [],
   "source": [
    "df =df_fraud.drop([ 'nameOrig','nameDest', 'newbalanceOrig','newbalanceDest','oldbalanceDest','type'], axis=1)\n",
    "df.info()"
   ]
  },
  {
   "cell_type": "raw",
   "id": "3396e079",
   "metadata": {},
   "source": [
    "from sklearn.model_selection import train_test_split\n",
    "X_train, X_test, y_train, y_test = train_test_split(X,y,test_size=0.3,random_state=100)"
   ]
  },
  {
   "cell_type": "code",
   "execution_count": null,
   "id": "c4aaa5ef",
   "metadata": {},
   "outputs": [],
   "source": [
    "from sklearn.preprocessing import LabelBinarizer"
   ]
  },
  {
   "cell_type": "code",
   "execution_count": null,
   "id": "8111f6b1",
   "metadata": {},
   "outputs": [],
   "source": [
    "# by default majority class (benign) will be negative\n",
    "lb = LabelBinarizer()\n",
    "df['isFraud'] = lb.fit_transform(df['isFraud'].values)\n",
    "targets = df['isFraud']\n",
    "\n",
    "df.drop([ 'isFraud'], axis=1, inplace=True)\n",
    "df"
   ]
  },
  {
   "cell_type": "code",
   "execution_count": null,
   "id": "64d7c69b",
   "metadata": {},
   "outputs": [],
   "source": []
  },
  {
   "cell_type": "code",
   "execution_count": null,
   "id": "60ab651d",
   "metadata": {},
   "outputs": [],
   "source": [
    "from sklearn.model_selection import train_test_split, GridSearchCV, StratifiedKFold\n",
    "\n",
    "X_train, X_test, y_train, y_test = train_test_split(df, targets, stratify=targets,test_size=0.3,random_state=100)"
   ]
  },
  {
   "cell_type": "code",
   "execution_count": null,
   "id": "eabc7fa2",
   "metadata": {},
   "outputs": [],
   "source": [
    "print('y_train class distribution')\n",
    "print(y_train.value_counts(normalize=True))\n",
    "\n",
    "print('y_test class distribution')\n",
    "print(y_test.value_counts(normalize=True))"
   ]
  },
  {
   "cell_type": "code",
   "execution_count": null,
   "id": "8d44f699",
   "metadata": {},
   "outputs": [],
   "source": [
    "# first classifier\n",
    "from sklearn.svm import SVC\n",
    "svm = SVC(gamma='auto')"
   ]
  },
  {
   "cell_type": "code",
   "execution_count": null,
   "id": "f10b3479",
   "metadata": {},
   "outputs": [],
   "source": [
    "svm.fit(X_train, y_train)"
   ]
  },
  {
   "cell_type": "code",
   "execution_count": null,
   "id": "40c13d97",
   "metadata": {},
   "outputs": [],
   "source": [
    "svm.score(X_test, y_test)"
   ]
  },
  {
   "cell_type": "code",
   "execution_count": null,
   "id": "55567dcd",
   "metadata": {},
   "outputs": [],
   "source": [
    "#second classifier\n",
    "from sklearn.ensemble import RandomForestClassifier\n",
    "rf = RandomForestClassifier(n_estimators=1)"
   ]
  },
  {
   "cell_type": "code",
   "execution_count": null,
   "id": "5c08f6ac",
   "metadata": {},
   "outputs": [],
   "source": [
    "rf.fit(X_train, y_train)"
   ]
  },
  {
   "cell_type": "code",
   "execution_count": null,
   "id": "0fc33585",
   "metadata": {},
   "outputs": [],
   "source": []
  },
  {
   "cell_type": "code",
   "execution_count": null,
   "id": "100e91d8",
   "metadata": {},
   "outputs": [],
   "source": [
    "# second classifier 2 model\n",
    "rf2 = RandomForestClassifier(n_estimators=50) #second model\n",
    "rf2.fit(X_train, y_train)\n",
    "rf2.score(X_test, y_test)"
   ]
  },
  {
   "cell_type": "code",
   "execution_count": null,
   "id": "eaf0caf5",
   "metadata": {},
   "outputs": [],
   "source": [
    "preds_rf2 = rf2.predict(X_test)\n",
    "preds_rf2"
   ]
  },
  {
   "cell_type": "code",
   "execution_count": null,
   "id": "c40377e9",
   "metadata": {},
   "outputs": [],
   "source": [
    "##Evaluation ( for 2 classifier 2 model)"
   ]
  },
  {
   "cell_type": "code",
   "execution_count": null,
   "id": "e25aa49e",
   "metadata": {},
   "outputs": [],
   "source": [
    "from sklearn.metrics import roc_curve, precision_recall_curve, auc, make_scorer, recall_score, accuracy_score, precision_score, confusion_matrix,classification_report,plot_confusion_matrix"
   ]
  },
  {
   "cell_type": "code",
   "execution_count": null,
   "id": "af8f12d8",
   "metadata": {},
   "outputs": [],
   "source": [
    "print(classification_report(y_test,preds_rf2))\n",
    "print(confusion_matrix(y_test,preds_rf2))\n",
    "plot_confusion_matrix(rf,X_test,y_test)\n",
    "rf2.feature_importances_"
   ]
  },
  {
   "cell_type": "code",
   "execution_count": null,
   "id": "7038d9da",
   "metadata": {},
   "outputs": [],
   "source": []
  },
  {
   "cell_type": "code",
   "execution_count": null,
   "id": "5cfb2708",
   "metadata": {},
   "outputs": [],
   "source": []
  },
  {
   "cell_type": "code",
   "execution_count": null,
   "id": "5d1d4fe7",
   "metadata": {},
   "outputs": [],
   "source": []
  },
  {
   "cell_type": "code",
   "execution_count": null,
   "id": "d82d0fd8",
   "metadata": {},
   "outputs": [],
   "source": [
    "df.columns"
   ]
  },
  {
   "cell_type": "code",
   "execution_count": null,
   "id": "1fcab8a5",
   "metadata": {},
   "outputs": [],
   "source": [
    "pd.DataFrame(data=rf2.feature_importances_,index=df.columns,columns=['Feature Importance']).sort_values('Feature Importance')"
   ]
  },
  {
   "cell_type": "code",
   "execution_count": null,
   "id": "56152bb0",
   "metadata": {},
   "outputs": [],
   "source": [
    "from sklearn.model_selection import cross_val_score\n",
    "\n",
    "scores=cross_val_score(SVC(gamma='auto'), X_train,y_train,cv=5)\n",
    "scores"
   ]
  },
  {
   "cell_type": "code",
   "execution_count": null,
   "id": "b41b8bfa",
   "metadata": {},
   "outputs": [],
   "source": [
    "np.average(scores)"
   ]
  },
  {
   "cell_type": "code",
   "execution_count": null,
   "id": "7d26bee1",
   "metadata": {},
   "outputs": [],
   "source": [
    "scores=cross_val_score(RandomForestClassifier(n_estimators=10), X_train,y_train,cv=5)\n",
    "scores"
   ]
  },
  {
   "cell_type": "code",
   "execution_count": null,
   "id": "c9ad65c2",
   "metadata": {},
   "outputs": [],
   "source": [
    "np.average(scores)"
   ]
  },
  {
   "cell_type": "code",
   "execution_count": null,
   "id": "255ce1bf",
   "metadata": {},
   "outputs": [],
   "source": [
    "scores=cross_val_score(RandomForestClassifier(n_estimators=40), X_train,y_train,cv=5)\n",
    "np.average(scores)"
   ]
  },
  {
   "cell_type": "markdown",
   "id": "5ce61e98",
   "metadata": {},
   "source": [
    "##GRID SEARCH"
   ]
  },
  {
   "cell_type": "code",
   "execution_count": null,
   "id": "d343ebed",
   "metadata": {},
   "outputs": [],
   "source": [
    "\n",
    "param_grid = {\n",
    "    'min_samples_split': [3, 5, 10], \n",
    "    'n_estimators' : [100, 300],\n",
    "    'max_depth': [3, 5, 15, 25],\n",
    "    'max_features': [3, 5, 10, 20]\n",
    "}\n"
   ]
  },
  {
   "cell_type": "code",
   "execution_count": null,
   "id": "0bee8e90",
   "metadata": {},
   "outputs": [],
   "source": []
  },
  {
   "cell_type": "code",
   "execution_count": null,
   "id": "f8a11d0c",
   "metadata": {},
   "outputs": [],
   "source": [
    "scorers = {\n",
    "    'precision_score': make_scorer(precision_score),\n",
    "    'recall_score': make_scorer(recall_score),\n",
    "    'accuracy_score': make_scorer(accuracy_score)\n",
    "}"
   ]
  },
  {
   "cell_type": "code",
   "execution_count": null,
   "id": "2c7e2227",
   "metadata": {},
   "outputs": [],
   "source": [
    "def grid_search_wrapper(refit_score='precision_score'):\n",
    "    \"\"\"\n",
    "    fits a GridSearchCV classifier using refit_score for optimization\n",
    "    prints classifier performance metrics\n",
    "    \"\"\"\n",
    "    skf = StratifiedKFold(n_splits=10)\n",
    "    grid_search = GridSearchCV(rf, param_grid, scoring=scorers, refit=refit_score,\n",
    "                           cv=skf, return_train_score=True, n_jobs=-1)\n",
    "    grid_search.fit(X_train.values, y_train.values)\n",
    "\n",
    "    # make the predictions\n",
    "    y_pred = grid_search.predict(X_test.values)\n",
    "\n",
    "    print('Best params for {}'.format(refit_score))\n",
    "    print(grid_search.best_params_)\n",
    "\n",
    "    # confusion matrix on the test data.\n",
    "    print('\\nConfusion matrix of Random Forest optimized for {} on the test data:'.format(refit_score))\n",
    "    print(pd.DataFrame(confusion_matrix(y_test, y_pred),\n",
    "                 columns=['pred_neg', 'pred_pos'], index=['neg', 'pos']))\n",
    "    return grid_search\n",
    "grid_search_clf = grid_search_wrapper(refit_score='precision_score')"
   ]
  },
  {
   "cell_type": "code",
   "execution_count": 1,
   "id": "0aa9a9db",
   "metadata": {},
   "outputs": [
    {
     "name": "stdout",
     "output_type": "stream",
     "text": [
      "y_train class distribution\n"
     ]
    },
    {
     "ename": "NameError",
     "evalue": "name 'y_train' is not defined",
     "output_type": "error",
     "traceback": [
      "\u001b[1;31m---------------------------------------------------------------------------\u001b[0m",
      "\u001b[1;31mNameError\u001b[0m                                 Traceback (most recent call last)",
      "\u001b[1;32m~\\AppData\\Local\\Temp/ipykernel_11972/2778770437.py\u001b[0m in \u001b[0;36m<module>\u001b[1;34m\u001b[0m\n\u001b[0;32m      1\u001b[0m \u001b[0mprint\u001b[0m\u001b[1;33m(\u001b[0m\u001b[1;34m'y_train class distribution'\u001b[0m\u001b[1;33m)\u001b[0m\u001b[1;33m\u001b[0m\u001b[1;33m\u001b[0m\u001b[0m\n\u001b[1;32m----> 2\u001b[1;33m \u001b[0mprint\u001b[0m\u001b[1;33m(\u001b[0m\u001b[0my_train\u001b[0m\u001b[1;33m.\u001b[0m\u001b[0mvalue_counts\u001b[0m\u001b[1;33m(\u001b[0m\u001b[0mnormalize\u001b[0m\u001b[1;33m=\u001b[0m\u001b[1;32mTrue\u001b[0m\u001b[1;33m)\u001b[0m\u001b[1;33m)\u001b[0m\u001b[1;33m\u001b[0m\u001b[1;33m\u001b[0m\u001b[0m\n\u001b[0m\u001b[0;32m      3\u001b[0m \u001b[1;33m\u001b[0m\u001b[0m\n\u001b[0;32m      4\u001b[0m \u001b[0mprint\u001b[0m\u001b[1;33m(\u001b[0m\u001b[1;34m'y_test class distribution'\u001b[0m\u001b[1;33m)\u001b[0m\u001b[1;33m\u001b[0m\u001b[1;33m\u001b[0m\u001b[0m\n\u001b[0;32m      5\u001b[0m \u001b[0mprint\u001b[0m\u001b[1;33m(\u001b[0m\u001b[0my_test\u001b[0m\u001b[1;33m.\u001b[0m\u001b[0mvalue_counts\u001b[0m\u001b[1;33m(\u001b[0m\u001b[0mnormalize\u001b[0m\u001b[1;33m=\u001b[0m\u001b[1;32mTrue\u001b[0m\u001b[1;33m)\u001b[0m\u001b[1;33m)\u001b[0m\u001b[1;33m\u001b[0m\u001b[1;33m\u001b[0m\u001b[0m\n",
      "\u001b[1;31mNameError\u001b[0m: name 'y_train' is not defined"
     ]
    }
   ],
   "source": []
  },
  {
   "cell_type": "code",
   "execution_count": null,
   "id": "a1d84f01",
   "metadata": {},
   "outputs": [],
   "source": []
  },
  {
   "cell_type": "code",
   "execution_count": null,
   "id": "af475f1b",
   "metadata": {},
   "outputs": [],
   "source": []
  },
  {
   "cell_type": "code",
   "execution_count": null,
   "id": "22429924",
   "metadata": {},
   "outputs": [],
   "source": []
  },
  {
   "cell_type": "code",
   "execution_count": null,
   "id": "6111cd2f",
   "metadata": {},
   "outputs": [],
   "source": []
  },
  {
   "cell_type": "code",
   "execution_count": null,
   "id": "2d4a34de",
   "metadata": {},
   "outputs": [],
   "source": []
  },
  {
   "cell_type": "code",
   "execution_count": null,
   "id": "0e12fb73",
   "metadata": {},
   "outputs": [],
   "source": []
  }
 ],
 "metadata": {
  "kernelspec": {
   "display_name": "Python 3 (ipykernel)",
   "language": "python",
   "name": "python3"
  },
  "language_info": {
   "codemirror_mode": {
    "name": "ipython",
    "version": 3
   },
   "file_extension": ".py",
   "mimetype": "text/x-python",
   "name": "python",
   "nbconvert_exporter": "python",
   "pygments_lexer": "ipython3",
   "version": "3.9.7"
  }
 },
 "nbformat": 4,
 "nbformat_minor": 5
}
